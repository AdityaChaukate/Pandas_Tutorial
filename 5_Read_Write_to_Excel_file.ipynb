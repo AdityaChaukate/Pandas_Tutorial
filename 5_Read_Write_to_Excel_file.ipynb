{
 "cells": [
  {
   "cell_type": "markdown",
   "id": "99a806c9-ce50-4faa-b3f5-6591912a39ad",
   "metadata": {},
   "source": [
    "# reading the excel file"
   ]
  },
  {
   "cell_type": "code",
   "execution_count": null,
   "id": "6dc21837-10c1-4eb7-9150-5d973c6f02b7",
   "metadata": {},
   "outputs": [],
   "source": [
    "import pandas as pd\n",
    "\n",
    "df = pd.read_excle(\"Stocks_Data.xlsx\" , sheet_name = 1)"
   ]
  },
  {
   "cell_type": "markdown",
   "id": "41f660a2-aca6-499e-8ef5-36d0ae8343b8",
   "metadata": {},
   "source": [
    "# writing the excel file without index"
   ]
  },
  {
   "cell_type": "code",
   "execution_count": 2,
   "id": "67ec575e-8e90-4fa7-aa05-eb7570973b20",
   "metadata": {},
   "outputs": [],
   "source": [
    "df.to_excel(\"new.xlsx\" , sheet_name = \"stocks\" , index = False)"
   ]
  },
  {
   "cell_type": "markdown",
   "id": "000f2329-44d5-4010-b6ad-f709e5f7d295",
   "metadata": {},
   "source": [
    "# writing the excel file...leaving the some rows and columns "
   ]
  },
  {
   "cell_type": "code",
   "execution_count": 3,
   "id": "cf8e2672-03d5-4e6c-bb1d-b1cab17d2b91",
   "metadata": {},
   "outputs": [],
   "source": [
    "df.to_excel(\"new.xlsx\" , sheet_name = \"stocks\"  , startrow = 1 , startcol = 2, index = False)"
   ]
  },
  {
   "cell_type": "code",
   "execution_count": 4,
   "id": "22109cd4-2b71-4ca1-88f5-d9ea3e4a6789",
   "metadata": {},
   "outputs": [
    {
     "data": {
      "text/html": [
       "<div>\n",
       "<style scoped>\n",
       "    .dataframe tbody tr th:only-of-type {\n",
       "        vertical-align: middle;\n",
       "    }\n",
       "\n",
       "    .dataframe tbody tr th {\n",
       "        vertical-align: top;\n",
       "    }\n",
       "\n",
       "    .dataframe thead th {\n",
       "        text-align: right;\n",
       "    }\n",
       "</style>\n",
       "<table border=\"1\" class=\"dataframe\">\n",
       "  <thead>\n",
       "    <tr style=\"text-align: right;\">\n",
       "      <th></th>\n",
       "      <th>tickers</th>\n",
       "      <th>eps</th>\n",
       "      <th>Revenue</th>\n",
       "      <th>price</th>\n",
       "      <th>people</th>\n",
       "    </tr>\n",
       "  </thead>\n",
       "  <tbody>\n",
       "    <tr>\n",
       "      <th>0</th>\n",
       "      <td>GOOGL</td>\n",
       "      <td>27.82</td>\n",
       "      <td>87</td>\n",
       "      <td>845</td>\n",
       "      <td>larry page</td>\n",
       "    </tr>\n",
       "    <tr>\n",
       "      <th>1</th>\n",
       "      <td>WMT</td>\n",
       "      <td>4.61</td>\n",
       "      <td>484</td>\n",
       "      <td>65</td>\n",
       "      <td>sam Walton</td>\n",
       "    </tr>\n",
       "    <tr>\n",
       "      <th>2</th>\n",
       "      <td>MSFT</td>\n",
       "      <td>-1</td>\n",
       "      <td>85</td>\n",
       "      <td>64</td>\n",
       "      <td>bill gates</td>\n",
       "    </tr>\n",
       "    <tr>\n",
       "      <th>3</th>\n",
       "      <td>RIL</td>\n",
       "      <td>not available</td>\n",
       "      <td>50</td>\n",
       "      <td>1023</td>\n",
       "      <td>mukesh ambani</td>\n",
       "    </tr>\n",
       "    <tr>\n",
       "      <th>4</th>\n",
       "      <td>TATA</td>\n",
       "      <td>5.6</td>\n",
       "      <td>-1</td>\n",
       "      <td>n.a.</td>\n",
       "      <td>ratan tata</td>\n",
       "    </tr>\n",
       "  </tbody>\n",
       "</table>\n",
       "</div>"
      ],
      "text/plain": [
       "  tickers            eps  Revenue price         people\n",
       "0   GOOGL          27.82       87   845     larry page\n",
       "1     WMT           4.61      484    65     sam Walton\n",
       "2    MSFT             -1       85    64     bill gates\n",
       "3     RIL  not available       50  1023  mukesh ambani\n",
       "4    TATA            5.6       -1  n.a.     ratan tata"
      ]
     },
     "execution_count": 4,
     "metadata": {},
     "output_type": "execute_result"
    }
   ],
   "source": [
    "df\n"
   ]
  },
  {
   "cell_type": "markdown",
   "id": "3f0956cc-a460-48f4-be93-b4472848c0ed",
   "metadata": {},
   "source": [
    "# first dataframe"
   ]
  },
  {
   "cell_type": "code",
   "execution_count": 3,
   "id": "e987d3d8-4722-4a35-898f-5160917954ed",
   "metadata": {},
   "outputs": [
    {
     "name": "stdout",
     "output_type": "stream",
     "text": [
      "      day  temp  event\n",
      "0  1/1/25    32   Rain\n",
      "1  1/2/25    35  Sunny\n",
      "2  2/3/25    12   Snow\n"
     ]
    }
   ],
   "source": [
    "weather = {\n",
    "    'day' : ['1/1/25' , '1/2/25' , '2/3/25'],\n",
    "    'temp' : [32,35,12],\n",
    "    'event' : ['Rain' , 'Sunny' , 'Snow']\n",
    "}\n",
    "\n",
    "df_weather = pd.DataFrame(weather)\n",
    "\n",
    "print(df_weather)"
   ]
  },
  {
   "cell_type": "markdown",
   "id": "5338a774-9d68-4749-bd48-6f68ffc6dc52",
   "metadata": {},
   "source": [
    "# second dataframe"
   ]
  },
  {
   "cell_type": "code",
   "execution_count": 8,
   "id": "33986d47-7821-4d1c-beeb-4d7a15dbfb1e",
   "metadata": {},
   "outputs": [
    {
     "name": "stdout",
     "output_type": "stream",
     "text": [
      "  tickers            eps  Revenue price         people\n",
      "0   GOOGL          27.82       87   845     larry page\n",
      "1     WMT           4.61      484    65     sam Walton\n",
      "2    MSFT             -1       85    64     bill gates\n",
      "3     RIL  not available       50  1023  mukesh ambani\n",
      "4    TATA            5.6       -1  n.a.     ratan tata\n"
     ]
    }
   ],
   "source": [
    "print(df)"
   ]
  },
  {
   "cell_type": "markdown",
   "id": "9d922164-46f7-43d5-b41a-702ee29cde46",
   "metadata": {},
   "source": [
    "# This method is used....whenever we want to create a excel file in which both the dataframes are in the same .xlsx file but in different sheets"
   ]
  },
  {
   "cell_type": "code",
   "execution_count": 9,
   "id": "702477ad-f3c9-4257-a384-59ad74272317",
   "metadata": {},
   "outputs": [],
   "source": [
    "with pd.ExcelWriter('stocks_weather.xlsx') as writer:\n",
    "    df.to_excel(writer, sheet_name = 'Stocks')\n",
    "    df_weather.to_excel(writer, sheet_name = 'Weather')"
   ]
  },
  {
   "cell_type": "code",
   "execution_count": null,
   "id": "b8c91255-a991-4b78-aac2-05b7084e6cf7",
   "metadata": {},
   "outputs": [],
   "source": []
  }
 ],
 "metadata": {
  "kernelspec": {
   "display_name": "Python 3 (ipykernel)",
   "language": "python",
   "name": "python3"
  },
  "language_info": {
   "codemirror_mode": {
    "name": "ipython",
    "version": 3
   },
   "file_extension": ".py",
   "mimetype": "text/x-python",
   "name": "python",
   "nbconvert_exporter": "python",
   "pygments_lexer": "ipython3",
   "version": "3.13.2"
  }
 },
 "nbformat": 4,
 "nbformat_minor": 5
}
