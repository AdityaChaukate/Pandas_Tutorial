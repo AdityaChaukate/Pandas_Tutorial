{
 "cells": [
  {
   "cell_type": "markdown",
   "id": "89780a3b-227e-4758-b8fb-ea9aaa280bd9",
   "metadata": {},
   "source": [
    "# Reading the Excel file"
   ]
  },
  {
   "cell_type": "code",
   "execution_count": 27,
   "id": "5977a9dc-e292-4520-bc06-8110dcbb7811",
   "metadata": {},
   "outputs": [],
   "source": [
    "import pandas as pd\n",
    "import matplotlib.pyplot as plt"
   ]
  },
  {
   "cell_type": "code",
   "execution_count": 5,
   "id": "50493072-5d60-4748-b48c-e16998114b3a",
   "metadata": {},
   "outputs": [
    {
     "name": "stdout",
     "output_type": "stream",
     "text": [
      "         day      city  temp  windspeed  event\n",
      "0 2025-01-01  new york    32          6   Rain\n",
      "1 2025-02-01  new york    36          7  Sunny\n",
      "2 2025-03-01  new york    28         12   Snow\n",
      "3 2025-04-01  new york    33          7  Sunny\n",
      "4 2025-01-01    mumbai    90          5  Sunny\n"
     ]
    }
   ],
   "source": [
    "df = pd.read_excel(\"C:\\\\Users\\\\Vinsc\\\\OneDrive\\\\Desktop\\\\Pandas\\\\stocks_weather.xlsx\" , sheet_name = 'Weather')\n",
    "print(df.head())"
   ]
  },
  {
   "cell_type": "markdown",
   "id": "27166d02-efd8-45c9-b9fe-6c9d57cb93fa",
   "metadata": {},
   "source": [
    "# using the group by function"
   ]
  },
  {
   "cell_type": "code",
   "execution_count": 6,
   "id": "e5e94ea1-9ff0-4ab8-8380-7a3816b981b4",
   "metadata": {},
   "outputs": [
    {
     "data": {
      "text/plain": [
       "<pandas.core.groupby.generic.DataFrameGroupBy object at 0x000001D96B629FD0>"
      ]
     },
     "execution_count": 6,
     "metadata": {},
     "output_type": "execute_result"
    }
   ],
   "source": [
    "g = df.groupby('city')\n",
    "g"
   ]
  },
  {
   "cell_type": "code",
   "execution_count": 8,
   "id": "a8d6163c-d8bc-4ba9-b247-9bd83a6ee1c0",
   "metadata": {},
   "outputs": [
    {
     "name": "stdout",
     "output_type": "stream",
     "text": [
      "mumbai\n",
      "         day    city  temp  windspeed  event\n",
      "4 2025-01-01  mumbai    90          5  Sunny\n",
      "5 2025-02-01  mumbai    85         12    Fog\n",
      "6 2025-03-01  mumbai    87         15    Fog\n",
      "7 2025-04-01  mumbai    92          5   Rain\n",
      "new york\n",
      "         day      city  temp  windspeed  event\n",
      "0 2025-01-01  new york    32          6   Rain\n",
      "1 2025-02-01  new york    36          7  Sunny\n",
      "2 2025-03-01  new york    28         12   Snow\n",
      "3 2025-04-01  new york    33          7  Sunny\n",
      "paris\n",
      "          day   city  temp  windspeed   event\n",
      "8  2025-01-01  paris    45         20   Sunny\n",
      "9  2025-02-01  paris    50         13  Cloudy\n",
      "10 2025-03-01  paris    54          8  Cloudy\n",
      "11 2025-04-01  paris    42         10  Cloudy\n"
     ]
    }
   ],
   "source": [
    "for city, city_df in g:\n",
    "    print(city)\n",
    "    print(city_df)"
   ]
  },
  {
   "cell_type": "code",
   "execution_count": 9,
   "id": "baf14015-2960-4d47-8a7e-c390d40abe25",
   "metadata": {},
   "outputs": [
    {
     "data": {
      "text/html": [
       "<div>\n",
       "<style scoped>\n",
       "    .dataframe tbody tr th:only-of-type {\n",
       "        vertical-align: middle;\n",
       "    }\n",
       "\n",
       "    .dataframe tbody tr th {\n",
       "        vertical-align: top;\n",
       "    }\n",
       "\n",
       "    .dataframe thead th {\n",
       "        text-align: right;\n",
       "    }\n",
       "</style>\n",
       "<table border=\"1\" class=\"dataframe\">\n",
       "  <thead>\n",
       "    <tr style=\"text-align: right;\">\n",
       "      <th></th>\n",
       "      <th>day</th>\n",
       "      <th>city</th>\n",
       "      <th>temp</th>\n",
       "      <th>windspeed</th>\n",
       "      <th>event</th>\n",
       "    </tr>\n",
       "  </thead>\n",
       "  <tbody>\n",
       "    <tr>\n",
       "      <th>4</th>\n",
       "      <td>2025-01-01</td>\n",
       "      <td>mumbai</td>\n",
       "      <td>90</td>\n",
       "      <td>5</td>\n",
       "      <td>Sunny</td>\n",
       "    </tr>\n",
       "    <tr>\n",
       "      <th>5</th>\n",
       "      <td>2025-02-01</td>\n",
       "      <td>mumbai</td>\n",
       "      <td>85</td>\n",
       "      <td>12</td>\n",
       "      <td>Fog</td>\n",
       "    </tr>\n",
       "    <tr>\n",
       "      <th>6</th>\n",
       "      <td>2025-03-01</td>\n",
       "      <td>mumbai</td>\n",
       "      <td>87</td>\n",
       "      <td>15</td>\n",
       "      <td>Fog</td>\n",
       "    </tr>\n",
       "    <tr>\n",
       "      <th>7</th>\n",
       "      <td>2025-04-01</td>\n",
       "      <td>mumbai</td>\n",
       "      <td>92</td>\n",
       "      <td>5</td>\n",
       "      <td>Rain</td>\n",
       "    </tr>\n",
       "  </tbody>\n",
       "</table>\n",
       "</div>"
      ],
      "text/plain": [
       "         day    city  temp  windspeed  event\n",
       "4 2025-01-01  mumbai    90          5  Sunny\n",
       "5 2025-02-01  mumbai    85         12    Fog\n",
       "6 2025-03-01  mumbai    87         15    Fog\n",
       "7 2025-04-01  mumbai    92          5   Rain"
      ]
     },
     "execution_count": 9,
     "metadata": {},
     "output_type": "execute_result"
    }
   ],
   "source": [
    "g.get_group('mumbai')"
   ]
  },
  {
   "cell_type": "code",
   "execution_count": 15,
   "id": "6f1fd33d-d687-44e4-ae44-5aebcc3568b8",
   "metadata": {},
   "outputs": [
    {
     "data": {
      "text/html": [
       "<div>\n",
       "<style scoped>\n",
       "    .dataframe tbody tr th:only-of-type {\n",
       "        vertical-align: middle;\n",
       "    }\n",
       "\n",
       "    .dataframe tbody tr th {\n",
       "        vertical-align: top;\n",
       "    }\n",
       "\n",
       "    .dataframe thead th {\n",
       "        text-align: right;\n",
       "    }\n",
       "</style>\n",
       "<table border=\"1\" class=\"dataframe\">\n",
       "  <thead>\n",
       "    <tr style=\"text-align: right;\">\n",
       "      <th></th>\n",
       "      <th>day</th>\n",
       "      <th>temp</th>\n",
       "      <th>windspeed</th>\n",
       "      <th>event</th>\n",
       "    </tr>\n",
       "    <tr>\n",
       "      <th>city</th>\n",
       "      <th></th>\n",
       "      <th></th>\n",
       "      <th></th>\n",
       "      <th></th>\n",
       "    </tr>\n",
       "  </thead>\n",
       "  <tbody>\n",
       "    <tr>\n",
       "      <th>mumbai</th>\n",
       "      <td>2025-04-01</td>\n",
       "      <td>92</td>\n",
       "      <td>15</td>\n",
       "      <td>Sunny</td>\n",
       "    </tr>\n",
       "    <tr>\n",
       "      <th>new york</th>\n",
       "      <td>2025-04-01</td>\n",
       "      <td>36</td>\n",
       "      <td>12</td>\n",
       "      <td>Sunny</td>\n",
       "    </tr>\n",
       "    <tr>\n",
       "      <th>paris</th>\n",
       "      <td>2025-04-01</td>\n",
       "      <td>54</td>\n",
       "      <td>20</td>\n",
       "      <td>Sunny</td>\n",
       "    </tr>\n",
       "  </tbody>\n",
       "</table>\n",
       "</div>"
      ],
      "text/plain": [
       "                day  temp  windspeed  event\n",
       "city                                       \n",
       "mumbai   2025-04-01    92         15  Sunny\n",
       "new york 2025-04-01    36         12  Sunny\n",
       "paris    2025-04-01    54         20  Sunny"
      ]
     },
     "execution_count": 15,
     "metadata": {},
     "output_type": "execute_result"
    }
   ],
   "source": [
    "g.max()"
   ]
  },
  {
   "cell_type": "code",
   "execution_count": 20,
   "id": "18191071-61c9-4fdd-9f1e-6bf7a20a9094",
   "metadata": {},
   "outputs": [
    {
     "data": {
      "text/html": [
       "<div>\n",
       "<style scoped>\n",
       "    .dataframe tbody tr th:only-of-type {\n",
       "        vertical-align: middle;\n",
       "    }\n",
       "\n",
       "    .dataframe tbody tr th {\n",
       "        vertical-align: top;\n",
       "    }\n",
       "\n",
       "    .dataframe thead tr th {\n",
       "        text-align: left;\n",
       "    }\n",
       "\n",
       "    .dataframe thead tr:last-of-type th {\n",
       "        text-align: right;\n",
       "    }\n",
       "</style>\n",
       "<table border=\"1\" class=\"dataframe\">\n",
       "  <thead>\n",
       "    <tr>\n",
       "      <th></th>\n",
       "      <th colspan=\"8\" halign=\"left\">day</th>\n",
       "      <th colspan=\"5\" halign=\"left\">temp</th>\n",
       "      <th colspan=\"8\" halign=\"left\">windspeed</th>\n",
       "    </tr>\n",
       "    <tr>\n",
       "      <th></th>\n",
       "      <th>count</th>\n",
       "      <th>mean</th>\n",
       "      <th>min</th>\n",
       "      <th>25%</th>\n",
       "      <th>50%</th>\n",
       "      <th>75%</th>\n",
       "      <th>max</th>\n",
       "      <th>std</th>\n",
       "      <th>count</th>\n",
       "      <th>mean</th>\n",
       "      <th>...</th>\n",
       "      <th>max</th>\n",
       "      <th>std</th>\n",
       "      <th>count</th>\n",
       "      <th>mean</th>\n",
       "      <th>min</th>\n",
       "      <th>25%</th>\n",
       "      <th>50%</th>\n",
       "      <th>75%</th>\n",
       "      <th>max</th>\n",
       "      <th>std</th>\n",
       "    </tr>\n",
       "    <tr>\n",
       "      <th>city</th>\n",
       "      <th></th>\n",
       "      <th></th>\n",
       "      <th></th>\n",
       "      <th></th>\n",
       "      <th></th>\n",
       "      <th></th>\n",
       "      <th></th>\n",
       "      <th></th>\n",
       "      <th></th>\n",
       "      <th></th>\n",
       "      <th></th>\n",
       "      <th></th>\n",
       "      <th></th>\n",
       "      <th></th>\n",
       "      <th></th>\n",
       "      <th></th>\n",
       "      <th></th>\n",
       "      <th></th>\n",
       "      <th></th>\n",
       "      <th></th>\n",
       "      <th></th>\n",
       "    </tr>\n",
       "  </thead>\n",
       "  <tbody>\n",
       "    <tr>\n",
       "      <th>mumbai</th>\n",
       "      <td>4</td>\n",
       "      <td>2025-02-15 00:00:00</td>\n",
       "      <td>2025-01-01 00:00:00</td>\n",
       "      <td>2025-01-24 06:00:00</td>\n",
       "      <td>2025-02-15 00:00:00</td>\n",
       "      <td>2025-03-08 18:00:00</td>\n",
       "      <td>2025-04-01 00:00:00</td>\n",
       "      <td>NaN</td>\n",
       "      <td>4.0</td>\n",
       "      <td>88.50</td>\n",
       "      <td>...</td>\n",
       "      <td>92.0</td>\n",
       "      <td>3.109126</td>\n",
       "      <td>4.0</td>\n",
       "      <td>9.25</td>\n",
       "      <td>5.0</td>\n",
       "      <td>5.00</td>\n",
       "      <td>8.5</td>\n",
       "      <td>12.75</td>\n",
       "      <td>15.0</td>\n",
       "      <td>5.057997</td>\n",
       "    </tr>\n",
       "    <tr>\n",
       "      <th>new york</th>\n",
       "      <td>4</td>\n",
       "      <td>2025-02-15 00:00:00</td>\n",
       "      <td>2025-01-01 00:00:00</td>\n",
       "      <td>2025-01-24 06:00:00</td>\n",
       "      <td>2025-02-15 00:00:00</td>\n",
       "      <td>2025-03-08 18:00:00</td>\n",
       "      <td>2025-04-01 00:00:00</td>\n",
       "      <td>NaN</td>\n",
       "      <td>4.0</td>\n",
       "      <td>32.25</td>\n",
       "      <td>...</td>\n",
       "      <td>36.0</td>\n",
       "      <td>3.304038</td>\n",
       "      <td>4.0</td>\n",
       "      <td>8.00</td>\n",
       "      <td>6.0</td>\n",
       "      <td>6.75</td>\n",
       "      <td>7.0</td>\n",
       "      <td>8.25</td>\n",
       "      <td>12.0</td>\n",
       "      <td>2.708013</td>\n",
       "    </tr>\n",
       "    <tr>\n",
       "      <th>paris</th>\n",
       "      <td>4</td>\n",
       "      <td>2025-02-15 00:00:00</td>\n",
       "      <td>2025-01-01 00:00:00</td>\n",
       "      <td>2025-01-24 06:00:00</td>\n",
       "      <td>2025-02-15 00:00:00</td>\n",
       "      <td>2025-03-08 18:00:00</td>\n",
       "      <td>2025-04-01 00:00:00</td>\n",
       "      <td>NaN</td>\n",
       "      <td>4.0</td>\n",
       "      <td>47.75</td>\n",
       "      <td>...</td>\n",
       "      <td>54.0</td>\n",
       "      <td>5.315073</td>\n",
       "      <td>4.0</td>\n",
       "      <td>12.75</td>\n",
       "      <td>8.0</td>\n",
       "      <td>9.50</td>\n",
       "      <td>11.5</td>\n",
       "      <td>14.75</td>\n",
       "      <td>20.0</td>\n",
       "      <td>5.251984</td>\n",
       "    </tr>\n",
       "  </tbody>\n",
       "</table>\n",
       "<p>3 rows × 24 columns</p>\n",
       "</div>"
      ],
      "text/plain": [
       "           day                                                                 \\\n",
       "         count                 mean                  min                  25%   \n",
       "city                                                                            \n",
       "mumbai       4  2025-02-15 00:00:00  2025-01-01 00:00:00  2025-01-24 06:00:00   \n",
       "new york     4  2025-02-15 00:00:00  2025-01-01 00:00:00  2025-01-24 06:00:00   \n",
       "paris        4  2025-02-15 00:00:00  2025-01-01 00:00:00  2025-01-24 06:00:00   \n",
       "\n",
       "                                                                              \\\n",
       "                          50%                  75%                  max  std   \n",
       "city                                                                           \n",
       "mumbai    2025-02-15 00:00:00  2025-03-08 18:00:00  2025-04-01 00:00:00  NaN   \n",
       "new york  2025-02-15 00:00:00  2025-03-08 18:00:00  2025-04-01 00:00:00  NaN   \n",
       "paris     2025-02-15 00:00:00  2025-03-08 18:00:00  2025-04-01 00:00:00  NaN   \n",
       "\n",
       "          temp         ...                 windspeed                          \\\n",
       "         count   mean  ...   max       std     count   mean  min   25%   50%   \n",
       "city                   ...                                                     \n",
       "mumbai     4.0  88.50  ...  92.0  3.109126       4.0   9.25  5.0  5.00   8.5   \n",
       "new york   4.0  32.25  ...  36.0  3.304038       4.0   8.00  6.0  6.75   7.0   \n",
       "paris      4.0  47.75  ...  54.0  5.315073       4.0  12.75  8.0  9.50  11.5   \n",
       "\n",
       "                                 \n",
       "            75%   max       std  \n",
       "city                             \n",
       "mumbai    12.75  15.0  5.057997  \n",
       "new york   8.25  12.0  2.708013  \n",
       "paris     14.75  20.0  5.251984  \n",
       "\n",
       "[3 rows x 24 columns]"
      ]
     },
     "execution_count": 20,
     "metadata": {},
     "output_type": "execute_result"
    }
   ],
   "source": [
    "g.describe()"
   ]
  },
  {
   "cell_type": "code",
   "execution_count": 30,
   "id": "55e201c8-982e-4fe8-9770-1b3c5fae0a17",
   "metadata": {},
   "outputs": [
    {
     "data": {
      "text/plain": [
       "city\n",
       "mumbai      Axes(0.125,0.11;0.775x0.77)\n",
       "new york    Axes(0.125,0.11;0.775x0.77)\n",
       "paris       Axes(0.125,0.11;0.775x0.77)\n",
       "dtype: object"
      ]
     },
     "execution_count": 30,
     "metadata": {},
     "output_type": "execute_result"
    },
    {
     "data": {
      "image/png": "[encoded data removed]",
      "text/plain": [
       "<Figure size 640x480 with 1 Axes>"
      ]
     },
     "metadata": {},
     "output_type": "display_data"
    },
    {
     "data": {
      "image/png": "[encoded data removed]",
      "text/plain": [
       "<Figure size 640x480 with 1 Axes>"
      ]
     },
     "metadata": {},
     "output_type": "display_data"
    },
    {
     "data": {
      "image/png": "[encoded data removed]",
      "text/plain": [
       "<Figure size 640x480 with 1 Axes>"
      ]
     },
     "metadata": {},
     "output_type": "display_data"
    }
   ],
   "source": [
    "%matplotlib inline\n",
    "g.plot()"
   ]
  },
  {
   "cell_type": "code",
   "execution_count": null,
   "id": "956f07a5-d4df-4f75-a89a-862b3e199a3c",
   "metadata": {},
   "outputs": [],
   "source": []
  }
 ],
 "metadata": {
  "kernelspec": {
   "display_name": "Python 3 (ipykernel)",
   "language": "python",
   "name": "python3"
  },
  "language_info": {
   "codemirror_mode": {
    "name": "ipython",
    "version": 3
   },
   "file_extension": ".py",
   "mimetype": "text/x-python",
   "name": "python",
   "nbconvert_exporter": "python",
   "pygments_lexer": "ipython3",
   "version": "3.13.2"
  }
 },
 "nbformat": 4,
 "nbformat_minor": 5
}
