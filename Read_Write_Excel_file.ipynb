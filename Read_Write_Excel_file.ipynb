{
 "cells": [
  {
   "cell_type": "code",
   "execution_count": 1,
   "id": "7dcbe78b-da89-4938-8ea7-31268d454e2c",
   "metadata": {},
   "outputs": [
    {
     "name": "stdout",
     "output_type": "stream",
     "text": [
      "  tickers            eps  Revenue price         people\n",
      "0   GOOGL          27.82       87   845     larry page\n",
      "1     WMT           4.61      484    65     sam Walton\n",
      "2    MSFT             -1       85    64     bill gates\n",
      "3     RIL  not available       50  1023  mukesh ambani\n",
      "4    TATA            5.6       -1  n.a.     ratan tata\n"
     ]
    }
   ],
   "source": [
    "import pandas as pd\n",
    "\n",
    "def convert_people_cell(cell):\n",
    "    if cell == \"n.a.\":\n",
    "        return 'sam Walton'\n",
    "    return cell\n",
    "\n",
    "\n",
    "df = pd.read_excel(\"C:\\\\Users\\\\Vinsc\\\\OneDrive\\\\Documents\\\\5_pandas_.xlsx\", converters = {\n",
    "    'people' : convert_people_cell })\n",
    "\n",
    "print(df)"
   ]
  },
  {
   "cell_type": "code",
   "execution_count": 2,
   "id": "67ec575e-8e90-4fa7-aa05-eb7570973b20",
   "metadata": {},
   "outputs": [],
   "source": [
    "df.to_excel(\"new.xlsx\" , sheet_name = \"stocks\" , index = False)"
   ]
  },
  {
   "cell_type": "code",
   "execution_count": 3,
   "id": "cf8e2672-03d5-4e6c-bb1d-b1cab17d2b91",
   "metadata": {},
   "outputs": [],
   "source": [
    "df.to_excel(\"new.xlsx\" , sheet_name = \"stocks\"  , startrow = 1 , startcol = 2, index = False)"
   ]
  },
  {
   "cell_type": "code",
   "execution_count": 4,
   "id": "22109cd4-2b71-4ca1-88f5-d9ea3e4a6789",
   "metadata": {},
   "outputs": [
    {
     "data": {
      "text/html": [
       "<div>\n",
       "<style scoped>\n",
       "    .dataframe tbody tr th:only-of-type {\n",
       "        vertical-align: middle;\n",
       "    }\n",
       "\n",
       "    .dataframe tbody tr th {\n",
       "        vertical-align: top;\n",
       "    }\n",
       "\n",
       "    .dataframe thead th {\n",
       "        text-align: right;\n",
       "    }\n",
       "</style>\n",
       "<table border=\"1\" class=\"dataframe\">\n",
       "  <thead>\n",
       "    <tr style=\"text-align: right;\">\n",
       "      <th></th>\n",
       "      <th>tickers</th>\n",
       "      <th>eps</th>\n",
       "      <th>Revenue</th>\n",
       "      <th>price</th>\n",
       "      <th>people</th>\n",
       "    </tr>\n",
       "  </thead>\n",
       "  <tbody>\n",
       "    <tr>\n",
       "      <th>0</th>\n",
       "      <td>GOOGL</td>\n",
       "      <td>27.82</td>\n",
       "      <td>87</td>\n",
       "      <td>845</td>\n",
       "      <td>larry page</td>\n",
       "    </tr>\n",
       "    <tr>\n",
       "      <th>1</th>\n",
       "      <td>WMT</td>\n",
       "      <td>4.61</td>\n",
       "      <td>484</td>\n",
       "      <td>65</td>\n",
       "      <td>sam Walton</td>\n",
       "    </tr>\n",
       "    <tr>\n",
       "      <th>2</th>\n",
       "      <td>MSFT</td>\n",
       "      <td>-1</td>\n",
       "      <td>85</td>\n",
       "      <td>64</td>\n",
       "      <td>bill gates</td>\n",
       "    </tr>\n",
       "    <tr>\n",
       "      <th>3</th>\n",
       "      <td>RIL</td>\n",
       "      <td>not available</td>\n",
       "      <td>50</td>\n",
       "      <td>1023</td>\n",
       "      <td>mukesh ambani</td>\n",
       "    </tr>\n",
       "    <tr>\n",
       "      <th>4</th>\n",
       "      <td>TATA</td>\n",
       "      <td>5.6</td>\n",
       "      <td>-1</td>\n",
       "      <td>n.a.</td>\n",
       "      <td>ratan tata</td>\n",
       "    </tr>\n",
       "  </tbody>\n",
       "</table>\n",
       "</div>"
      ],
      "text/plain": [
       "  tickers            eps  Revenue price         people\n",
       "0   GOOGL          27.82       87   845     larry page\n",
       "1     WMT           4.61      484    65     sam Walton\n",
       "2    MSFT             -1       85    64     bill gates\n",
       "3     RIL  not available       50  1023  mukesh ambani\n",
       "4    TATA            5.6       -1  n.a.     ratan tata"
      ]
     },
     "execution_count": 4,
     "metadata": {},
     "output_type": "execute_result"
    }
   ],
   "source": [
    "df\n"
   ]
  },
  {
   "cell_type": "code",
   "execution_count": 5,
   "id": "2aa607d9-650c-4959-ab74-f25f5a185bcd",
   "metadata": {},
   "outputs": [],
   "source": [
    "weather = {\n",
    "    'day' : ['1/1/25' , '1/2/25' , '2/3/25'],\n",
    "    'temp' : [32,35,12],\n",
    "    'event' : ['Rain' , 'Sunny' , 'Snow']\n",
    "}"
   ]
  },
  {
   "cell_type": "code",
   "execution_count": 6,
   "id": "a15abfbd-5c77-4011-b966-f8f3d422fcc8",
   "metadata": {},
   "outputs": [],
   "source": [
    "df_weather = pd.DataFrame(weather)"
   ]
  },
  {
   "cell_type": "code",
   "execution_count": 7,
   "id": "30155817-1601-4353-8ca7-d52b8a5d49f3",
   "metadata": {},
   "outputs": [
    {
     "name": "stdout",
     "output_type": "stream",
     "text": [
      "      day  temp  event\n",
      "0  1/1/25    32   Rain\n",
      "1  1/2/25    35  Sunny\n",
      "2  2/3/25    12   Snow\n"
     ]
    }
   ],
   "source": [
    "print(df_weather)"
   ]
  },
  {
   "cell_type": "code",
   "execution_count": 8,
   "id": "33986d47-7821-4d1c-beeb-4d7a15dbfb1e",
   "metadata": {},
   "outputs": [
    {
     "name": "stdout",
     "output_type": "stream",
     "text": [
      "  tickers            eps  Revenue price         people\n",
      "0   GOOGL          27.82       87   845     larry page\n",
      "1     WMT           4.61      484    65     sam Walton\n",
      "2    MSFT             -1       85    64     bill gates\n",
      "3     RIL  not available       50  1023  mukesh ambani\n",
      "4    TATA            5.6       -1  n.a.     ratan tata\n"
     ]
    }
   ],
   "source": [
    "print(df)"
   ]
  },
  {
   "cell_type": "code",
   "execution_count": 9,
   "id": "702477ad-f3c9-4257-a384-59ad74272317",
   "metadata": {},
   "outputs": [],
   "source": [
    "with pd.ExcelWriter('stocks_weather.xlsx') as writer:\n",
    "    df.to_excel(writer, sheet_name = 'Stocks')\n",
    "    df_weather.to_excel(writer, sheet_name = 'Weather')"
   ]
  },
  {
   "cell_type": "code",
   "execution_count": null,
   "id": "b8c91255-a991-4b78-aac2-05b7084e6cf7",
   "metadata": {},
   "outputs": [],
   "source": []
  }
 ],
 "metadata": {
  "kernelspec": {
   "display_name": "Python 3 (ipykernel)",
   "language": "python",
   "name": "python3"
  },
  "language_info": {
   "codemirror_mode": {
    "name": "ipython",
    "version": 3
   },
   "file_extension": ".py",
   "mimetype": "text/x-python",
   "name": "python",
   "nbconvert_exporter": "python",
   "pygments_lexer": "ipython3",
   "version": "3.13.2"
  }
 },
 "nbformat": 4,
 "nbformat_minor": 5
}
