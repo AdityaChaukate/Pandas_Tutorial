{
 "cells": [
  {
   "cell_type": "markdown",
   "id": "f896259a-8e55-4183-8e47-725c90ae4e54",
   "metadata": {},
   "source": [
    "# Different ways of creating DataFrames"
   ]
  },
  {
   "cell_type": "code",
   "execution_count": 7,
   "id": "7f8c1c11-100e-4daf-a723-8da9f37588d2",
   "metadata": {},
   "outputs": [],
   "source": [
    "import pandas as pd"
   ]
  },
  {
   "cell_type": "code",
   "execution_count": 1,
   "id": "8d469f1c-6ab7-4105-9996-7bb43e9ae7de",
   "metadata": {},
   "outputs": [],
   "source": [
    "# 1..using .csv() method"
   ]
  },
  {
   "cell_type": "code",
   "execution_count": null,
   "id": "231f9bc7-4ac7-4404-bb77-8b8c1ee72736",
   "metadata": {},
   "outputs": [],
   "source": [
    "pd.read_csv(\".csv\")"
   ]
  },
  {
   "cell_type": "code",
   "execution_count": null,
   "id": "e14e0652-4486-4822-a0b9-2a3863c28c26",
   "metadata": {},
   "outputs": [],
   "source": []
  },
  {
   "cell_type": "code",
   "execution_count": 3,
   "id": "58dc8abf-15b1-45c2-8bf5-bc4aaf64e770",
   "metadata": {},
   "outputs": [],
   "source": [
    "#2..using .xlsx() method"
   ]
  },
  {
   "cell_type": "code",
   "execution_count": null,
   "id": "02e0cbd5-f23e-46b4-ac5f-de5d11f26bd3",
   "metadata": {},
   "outputs": [],
   "source": [
    "pd.read.excel(\".xlsx\")"
   ]
  },
  {
   "cell_type": "code",
   "execution_count": null,
   "id": "3c731aba-d3ca-4e40-9798-9b2cb9c4086a",
   "metadata": {},
   "outputs": [],
   "source": []
  },
  {
   "cell_type": "code",
   "execution_count": 4,
   "id": "0875e132-aaf7-4e3e-9034-801a8cacd939",
   "metadata": {},
   "outputs": [],
   "source": [
    "#3..using python dictionary\n"
   ]
  },
  {
   "cell_type": "code",
   "execution_count": 5,
   "id": "dfa9964a-ea77-45bf-89f8-a36f7f3bc822",
   "metadata": {},
   "outputs": [],
   "source": [
    "Data = {\n",
    "    'Name' : [\"Aditya\" , \"Kernel\" , \"suicide\"],\n",
    "    'Roll_no' : [12,23,42],\n",
    "}"
   ]
  },
  {
   "cell_type": "code",
   "execution_count": 9,
   "id": "ec0ef6bc-0767-494a-b2fb-4724e7624baa",
   "metadata": {},
   "outputs": [
    {
     "data": {
      "text/html": [
       "<div>\n",
       "<style scoped>\n",
       "    .dataframe tbody tr th:only-of-type {\n",
       "        vertical-align: middle;\n",
       "    }\n",
       "\n",
       "    .dataframe tbody tr th {\n",
       "        vertical-align: top;\n",
       "    }\n",
       "\n",
       "    .dataframe thead th {\n",
       "        text-align: right;\n",
       "    }\n",
       "</style>\n",
       "<table border=\"1\" class=\"dataframe\">\n",
       "  <thead>\n",
       "    <tr style=\"text-align: right;\">\n",
       "      <th></th>\n",
       "      <th>Name</th>\n",
       "      <th>Roll_no</th>\n",
       "    </tr>\n",
       "  </thead>\n",
       "  <tbody>\n",
       "    <tr>\n",
       "      <th>0</th>\n",
       "      <td>Aditya</td>\n",
       "      <td>12</td>\n",
       "    </tr>\n",
       "    <tr>\n",
       "      <th>1</th>\n",
       "      <td>Kernel</td>\n",
       "      <td>23</td>\n",
       "    </tr>\n",
       "    <tr>\n",
       "      <th>2</th>\n",
       "      <td>suicide</td>\n",
       "      <td>42</td>\n",
       "    </tr>\n",
       "  </tbody>\n",
       "</table>\n",
       "</div>"
      ],
      "text/plain": [
       "      Name  Roll_no\n",
       "0   Aditya       12\n",
       "1   Kernel       23\n",
       "2  suicide       42"
      ]
     },
     "execution_count": 9,
     "metadata": {},
     "output_type": "execute_result"
    }
   ],
   "source": [
    "df = pd.DataFrame(Data)\n",
    "df"
   ]
  },
  {
   "cell_type": "code",
   "execution_count": null,
   "id": "e5c173f3-d535-49e3-ad59-6bf5ff98f56a",
   "metadata": {},
   "outputs": [],
   "source": []
  },
  {
   "cell_type": "code",
   "execution_count": 10,
   "id": "fde9b3af-3b1d-46bd-b02a-e1f269aef107",
   "metadata": {},
   "outputs": [],
   "source": [
    "#4..using Tuple lists DataFrame() method"
   ]
  },
  {
   "cell_type": "code",
   "execution_count": 11,
   "id": "44d6e691-38bc-40a2-8358-b2b06a255e85",
   "metadata": {},
   "outputs": [],
   "source": [
    "Weather_data = [\n",
    "    ('1/2/25' , 32 , 6 , \"Rain\"),\n",
    "    ('1/3/25' , 39 , 5 , \"Sunny\"),\n",
    "    ('1/4/25' , 28 , 3 , \"Cloudy\")\n",
    "]"
   ]
  },
  {
   "cell_type": "code",
   "execution_count": null,
   "id": "585258fa-9850-4906-b2dc-b4a48f9f0795",
   "metadata": {},
   "outputs": [],
   "source": [
    "df1 = pd.DataFrame(Weather_data , columns = [\"Day\" , \"Temp\" , \"WindSpeed\" ])"
   ]
  }
 ],
 "metadata": {
  "kernelspec": {
   "display_name": "Python 3 (ipykernel)",
   "language": "python",
   "name": "python3"
  },
  "language_info": {
   "codemirror_mode": {
    "name": "ipython",
    "version": 3
   },
   "file_extension": ".py",
   "mimetype": "text/x-python",
   "name": "python",
   "nbconvert_exporter": "python",
   "pygments_lexer": "ipython3",
   "version": "3.13.2"
  }
 },
 "nbformat": 4,
 "nbformat_minor": 5
}
